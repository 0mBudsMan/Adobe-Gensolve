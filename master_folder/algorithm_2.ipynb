{
 "cells": [
  {
   "cell_type": "code",
   "id": "initial_id",
   "metadata": {
    "collapsed": true,
    "ExecuteTime": {
     "end_time": "2024-08-11T06:26:56.228191Z",
     "start_time": "2024-08-11T06:26:36.449423Z"
    }
   },
   "source": [
    "!pip install opencv-python\n",
    "!pip install matplotlib\n",
    "!pip install numpy\n",
    "!pip install scipy\n",
    "!pip install pandas\n",
    "!pip install scikit-image"
   ],
   "outputs": [
    {
     "name": "stdout",
     "output_type": "stream",
     "text": [
      "Requirement already satisfied: opencv-python in /Users/shubhamgupta/Desktop/Adobe-Gensolve/venv/lib/python3.12/site-packages (4.5.5.62)\r\n",
      "Requirement already satisfied: numpy>=1.21.2 in /Users/shubhamgupta/Desktop/Adobe-Gensolve/venv/lib/python3.12/site-packages (from opencv-python) (1.26.4)\r\n",
      "\r\n",
      "\u001B[1m[\u001B[0m\u001B[34;49mnotice\u001B[0m\u001B[1;39;49m]\u001B[0m\u001B[39;49m A new release of pip is available: \u001B[0m\u001B[31;49m24.0\u001B[0m\u001B[39;49m -> \u001B[0m\u001B[32;49m24.2\u001B[0m\r\n",
      "\u001B[1m[\u001B[0m\u001B[34;49mnotice\u001B[0m\u001B[1;39;49m]\u001B[0m\u001B[39;49m To update, run: \u001B[0m\u001B[32;49mpip install --upgrade pip\u001B[0m\r\n",
      "Requirement already satisfied: matplotlib in /Users/shubhamgupta/Desktop/Adobe-Gensolve/venv/lib/python3.12/site-packages (3.9.1.post1)\r\n",
      "Requirement already satisfied: contourpy>=1.0.1 in /Users/shubhamgupta/Desktop/Adobe-Gensolve/venv/lib/python3.12/site-packages (from matplotlib) (1.2.1)\r\n",
      "Requirement already satisfied: cycler>=0.10 in /Users/shubhamgupta/Desktop/Adobe-Gensolve/venv/lib/python3.12/site-packages (from matplotlib) (0.12.1)\r\n",
      "Requirement already satisfied: fonttools>=4.22.0 in /Users/shubhamgupta/Desktop/Adobe-Gensolve/venv/lib/python3.12/site-packages (from matplotlib) (4.53.1)\r\n",
      "Requirement already satisfied: kiwisolver>=1.3.1 in /Users/shubhamgupta/Desktop/Adobe-Gensolve/venv/lib/python3.12/site-packages (from matplotlib) (1.4.5)\r\n",
      "Requirement already satisfied: numpy>=1.23 in /Users/shubhamgupta/Desktop/Adobe-Gensolve/venv/lib/python3.12/site-packages (from matplotlib) (1.26.4)\r\n",
      "Requirement already satisfied: packaging>=20.0 in /Users/shubhamgupta/Desktop/Adobe-Gensolve/venv/lib/python3.12/site-packages (from matplotlib) (23.2)\r\n",
      "Requirement already satisfied: pillow>=8 in /Users/shubhamgupta/Desktop/Adobe-Gensolve/venv/lib/python3.12/site-packages (from matplotlib) (9.5.0)\r\n",
      "Requirement already satisfied: pyparsing>=2.3.1 in /Users/shubhamgupta/Desktop/Adobe-Gensolve/venv/lib/python3.12/site-packages (from matplotlib) (3.1.2)\r\n",
      "Requirement already satisfied: python-dateutil>=2.7 in /Users/shubhamgupta/Desktop/Adobe-Gensolve/venv/lib/python3.12/site-packages (from matplotlib) (2.9.0.post0)\r\n",
      "Requirement already satisfied: six>=1.5 in /Users/shubhamgupta/Desktop/Adobe-Gensolve/venv/lib/python3.12/site-packages (from python-dateutil>=2.7->matplotlib) (1.16.0)\r\n",
      "\r\n",
      "\u001B[1m[\u001B[0m\u001B[34;49mnotice\u001B[0m\u001B[1;39;49m]\u001B[0m\u001B[39;49m A new release of pip is available: \u001B[0m\u001B[31;49m24.0\u001B[0m\u001B[39;49m -> \u001B[0m\u001B[32;49m24.2\u001B[0m\r\n",
      "\u001B[1m[\u001B[0m\u001B[34;49mnotice\u001B[0m\u001B[1;39;49m]\u001B[0m\u001B[39;49m To update, run: \u001B[0m\u001B[32;49mpip install --upgrade pip\u001B[0m\r\n",
      "Requirement already satisfied: numpy in /Users/shubhamgupta/Desktop/Adobe-Gensolve/venv/lib/python3.12/site-packages (1.26.4)\r\n",
      "\r\n",
      "\u001B[1m[\u001B[0m\u001B[34;49mnotice\u001B[0m\u001B[1;39;49m]\u001B[0m\u001B[39;49m A new release of pip is available: \u001B[0m\u001B[31;49m24.0\u001B[0m\u001B[39;49m -> \u001B[0m\u001B[32;49m24.2\u001B[0m\r\n",
      "\u001B[1m[\u001B[0m\u001B[34;49mnotice\u001B[0m\u001B[1;39;49m]\u001B[0m\u001B[39;49m To update, run: \u001B[0m\u001B[32;49mpip install --upgrade pip\u001B[0m\r\n",
      "Requirement already satisfied: scipy in /Users/shubhamgupta/Desktop/Adobe-Gensolve/venv/lib/python3.12/site-packages (1.14.0)\r\n",
      "Requirement already satisfied: numpy<2.3,>=1.23.5 in /Users/shubhamgupta/Desktop/Adobe-Gensolve/venv/lib/python3.12/site-packages (from scipy) (1.26.4)\r\n",
      "\r\n",
      "\u001B[1m[\u001B[0m\u001B[34;49mnotice\u001B[0m\u001B[1;39;49m]\u001B[0m\u001B[39;49m A new release of pip is available: \u001B[0m\u001B[31;49m24.0\u001B[0m\u001B[39;49m -> \u001B[0m\u001B[32;49m24.2\u001B[0m\r\n",
      "\u001B[1m[\u001B[0m\u001B[34;49mnotice\u001B[0m\u001B[1;39;49m]\u001B[0m\u001B[39;49m To update, run: \u001B[0m\u001B[32;49mpip install --upgrade pip\u001B[0m\r\n",
      "Requirement already satisfied: pandas in /Users/shubhamgupta/Desktop/Adobe-Gensolve/venv/lib/python3.12/site-packages (2.2.2)\r\n",
      "Requirement already satisfied: numpy>=1.26.0 in /Users/shubhamgupta/Desktop/Adobe-Gensolve/venv/lib/python3.12/site-packages (from pandas) (1.26.4)\r\n",
      "Requirement already satisfied: python-dateutil>=2.8.2 in /Users/shubhamgupta/Desktop/Adobe-Gensolve/venv/lib/python3.12/site-packages (from pandas) (2.9.0.post0)\r\n",
      "Requirement already satisfied: pytz>=2020.1 in /Users/shubhamgupta/Desktop/Adobe-Gensolve/venv/lib/python3.12/site-packages (from pandas) (2024.1)\r\n",
      "Requirement already satisfied: tzdata>=2022.7 in /Users/shubhamgupta/Desktop/Adobe-Gensolve/venv/lib/python3.12/site-packages (from pandas) (2024.1)\r\n",
      "Requirement already satisfied: six>=1.5 in /Users/shubhamgupta/Desktop/Adobe-Gensolve/venv/lib/python3.12/site-packages (from python-dateutil>=2.8.2->pandas) (1.16.0)\r\n",
      "\r\n",
      "\u001B[1m[\u001B[0m\u001B[34;49mnotice\u001B[0m\u001B[1;39;49m]\u001B[0m\u001B[39;49m A new release of pip is available: \u001B[0m\u001B[31;49m24.0\u001B[0m\u001B[39;49m -> \u001B[0m\u001B[32;49m24.2\u001B[0m\r\n",
      "\u001B[1m[\u001B[0m\u001B[34;49mnotice\u001B[0m\u001B[1;39;49m]\u001B[0m\u001B[39;49m To update, run: \u001B[0m\u001B[32;49mpip install --upgrade pip\u001B[0m\r\n",
      "Collecting scikit-image\r\n",
      "  Downloading scikit_image-0.24.0-cp312-cp312-macosx_12_0_arm64.whl.metadata (14 kB)\r\n",
      "Requirement already satisfied: numpy>=1.23 in /Users/shubhamgupta/Desktop/Adobe-Gensolve/venv/lib/python3.12/site-packages (from scikit-image) (1.26.4)\r\n",
      "Requirement already satisfied: scipy>=1.9 in /Users/shubhamgupta/Desktop/Adobe-Gensolve/venv/lib/python3.12/site-packages (from scikit-image) (1.14.0)\r\n",
      "Requirement already satisfied: networkx>=2.8 in /Users/shubhamgupta/Desktop/Adobe-Gensolve/venv/lib/python3.12/site-packages (from scikit-image) (3.3)\r\n",
      "Requirement already satisfied: pillow>=9.1 in /Users/shubhamgupta/Desktop/Adobe-Gensolve/venv/lib/python3.12/site-packages (from scikit-image) (9.5.0)\r\n",
      "Collecting imageio>=2.33 (from scikit-image)\r\n",
      "  Downloading imageio-2.34.2-py3-none-any.whl.metadata (4.9 kB)\r\n",
      "Collecting tifffile>=2022.8.12 (from scikit-image)\r\n",
      "  Downloading tifffile-2024.7.24-py3-none-any.whl.metadata (31 kB)\r\n",
      "Requirement already satisfied: packaging>=21 in /Users/shubhamgupta/Desktop/Adobe-Gensolve/venv/lib/python3.12/site-packages (from scikit-image) (23.2)\r\n",
      "Collecting lazy-loader>=0.4 (from scikit-image)\r\n",
      "  Downloading lazy_loader-0.4-py3-none-any.whl.metadata (7.6 kB)\r\n",
      "Downloading scikit_image-0.24.0-cp312-cp312-macosx_12_0_arm64.whl (13.4 MB)\r\n",
      "\u001B[2K   \u001B[90m━━━━━━━━━━━━━━━━━━━━━━━━━━━━━━━━━━━━━━━━\u001B[0m \u001B[32m13.4/13.4 MB\u001B[0m \u001B[31m1.3 MB/s\u001B[0m eta \u001B[36m0:00:00\u001B[0m00:01\u001B[0m00:01\u001B[0mm\r\n",
      "\u001B[?25hDownloading imageio-2.34.2-py3-none-any.whl (313 kB)\r\n",
      "\u001B[2K   \u001B[90m━━━━━━━━━━━━━━━━━━━━━━━━━━━━━━━━━━━━━━━━\u001B[0m \u001B[32m313.5/313.5 kB\u001B[0m \u001B[31m2.1 MB/s\u001B[0m eta \u001B[36m0:00:00\u001B[0ma \u001B[36m0:00:01\u001B[0m\r\n",
      "\u001B[?25hDownloading lazy_loader-0.4-py3-none-any.whl (12 kB)\r\n",
      "Downloading tifffile-2024.7.24-py3-none-any.whl (226 kB)\r\n",
      "\u001B[2K   \u001B[90m━━━━━━━━━━━━━━━━━━━━━━━━━━━━━━━━━━━━━━━━\u001B[0m \u001B[32m226.2/226.2 kB\u001B[0m \u001B[31m2.2 MB/s\u001B[0m eta \u001B[36m0:00:00\u001B[0ma \u001B[36m0:00:01\u001B[0m\r\n",
      "\u001B[?25hInstalling collected packages: tifffile, lazy-loader, imageio, scikit-image\r\n",
      "Successfully installed imageio-2.34.2 lazy-loader-0.4 scikit-image-0.24.0 tifffile-2024.7.24\r\n",
      "\r\n",
      "\u001B[1m[\u001B[0m\u001B[34;49mnotice\u001B[0m\u001B[1;39;49m]\u001B[0m\u001B[39;49m A new release of pip is available: \u001B[0m\u001B[31;49m24.0\u001B[0m\u001B[39;49m -> \u001B[0m\u001B[32;49m24.2\u001B[0m\r\n",
      "\u001B[1m[\u001B[0m\u001B[34;49mnotice\u001B[0m\u001B[1;39;49m]\u001B[0m\u001B[39;49m To update, run: \u001B[0m\u001B[32;49mpip install --upgrade pip\u001B[0m\r\n"
     ]
    }
   ],
   "execution_count": 2
  },
  {
   "metadata": {
    "ExecuteTime": {
     "end_time": "2024-08-11T06:29:08.808083Z",
     "start_time": "2024-08-11T06:29:08.803635Z"
    }
   },
   "cell_type": "code",
   "source": [
    "import cv2\n",
    "import numpy as np\n",
    "import matplotlib.pyplot as plt\n",
    "from collections import defaultdict\n",
    "from skimage.feature import canny\n",
    "from scipy.ndimage import sobel"
   ],
   "id": "a823a3e4147a1c5a",
   "outputs": [],
   "execution_count": 5
  },
  {
   "metadata": {
    "ExecuteTime": {
     "end_time": "2024-08-11T06:29:19.679441Z",
     "start_time": "2024-08-11T06:29:19.676637Z"
    }
   },
   "cell_type": "code",
   "source": [
    "# Constants for edge detection\n",
    "MIN_CANNY_THRESHOLD = 1\n",
    "MAX_CANNY_THRESHOLD = 400\n",
    "threshold = 0.5  # Example threshold"
   ],
   "id": "be297fad549f26bc",
   "outputs": [],
   "execution_count": 6
  },
  {
   "metadata": {
    "ExecuteTime": {
     "end_time": "2024-08-11T06:29:26.005777Z",
     "start_time": "2024-08-11T06:29:26.003283Z"
    }
   },
   "cell_type": "code",
   "source": [
    "def generate_shifts(max_shift):\n",
    "    shifts = []\n",
    "    for shift_y in range(-max_shift, max_shift + 1):\n",
    "        for shift_x in range(-max_shift, max_shift + 1):\n",
    "            shifts.append((shift_y, shift_x))\n",
    "    return shifts"
   ],
   "id": "c662da989cbac2a3",
   "outputs": [],
   "execution_count": 7
  },
  {
   "metadata": {
    "ExecuteTime": {
     "end_time": "2024-08-11T06:29:32.018520Z",
     "start_time": "2024-08-11T06:29:32.015448Z"
    }
   },
   "cell_type": "code",
   "source": [
    "def read_csv_(csv_path):\n",
    "    np_path_XYs = np.genfromtxt(csv_path, delimiter=',')\n",
    "    path_XYs = []\n",
    "    for i in np.unique(np_path_XYs[:, 0]):\n",
    "        npXYs = np_path_XYs[np_path_XYs[:, 0] == i][:, 1:]\n",
    "        XYs = []\n",
    "        for j in np.unique(npXYs[:, 0]):\n",
    "            XY = npXYs[npXYs[:, 0] == j][:, 1:]\n",
    "            XYs.append(XY)\n",
    "        path_XYs.append(XYs)\n",
    "    return path_XYs"
   ],
   "id": "d9ca87030d52c4b",
   "outputs": [],
   "execution_count": 8
  },
  {
   "metadata": {
    "ExecuteTime": {
     "end_time": "2024-08-11T06:29:38.033669Z",
     "start_time": "2024-08-11T06:29:38.031530Z"
    }
   },
   "cell_type": "code",
   "source": [
    "def gradient_orientation(image):\n",
    "    dx = sobel(image, axis=0, mode='constant')\n",
    "    dy = sobel(image, axis=1, mode='constant')\n",
    "    gradient = np.arctan2(dy, dx) * 180 / np.pi\n",
    "    return gradient"
   ],
   "id": "6c03ed5e0460da4b",
   "outputs": [],
   "execution_count": 9
  },
  {
   "metadata": {
    "ExecuteTime": {
     "end_time": "2024-08-11T06:29:44.565793Z",
     "start_time": "2024-08-11T06:29:44.563739Z"
    }
   },
   "cell_type": "code",
   "source": [
    "def build_r_table(image, origin):\n",
    "    edges = canny(image, low_threshold=MIN_CANNY_THRESHOLD,\n",
    "                  high_threshold=MAX_CANNY_THRESHOLD)\n",
    "    gradient = gradient_orientation(edges)\n",
    "\n",
    "    r_table = defaultdict(list)\n",
    "    for (i, j), value in np.ndenumerate(edges):\n",
    "        if value:\n",
    "            r_table[gradient[i, j]].append((origin[0] - i, origin[1] - j))\n",
    "    return r_table"
   ],
   "id": "534c99b3c8d15f25",
   "outputs": [],
   "execution_count": 10
  },
  {
   "metadata": {
    "ExecuteTime": {
     "end_time": "2024-08-11T06:29:52.007081Z",
     "start_time": "2024-08-11T06:29:52.004320Z"
    }
   },
   "cell_type": "code",
   "source": [
    "def accumulate_gradients(r_table, grayImage):\n",
    "    edges = canny(grayImage, low_threshold=MIN_CANNY_THRESHOLD,\n",
    "                  high_threshold=MAX_CANNY_THRESHOLD)\n",
    "    gradient = gradient_orientation(edges)\n",
    "\n",
    "    accumulator = np.zeros(grayImage.shape)\n",
    "    for (i, j), value in np.ndenumerate(edges):\n",
    "        if value:\n",
    "            for r in r_table[gradient[i, j]]:\n",
    "                accum_i, accum_j = i + r[0], j + r[1]\n",
    "                if 0 <= accum_i < accumulator.shape[0] and 0 <= accum_j < accumulator.shape[1]:\n",
    "                    accumulator[accum_i, accum_j] += 1\n",
    "    return accumulator"
   ],
   "id": "f1b5e0cd4e5ba230",
   "outputs": [],
   "execution_count": 11
  },
  {
   "metadata": {
    "ExecuteTime": {
     "end_time": "2024-08-11T06:30:03.509935Z",
     "start_time": "2024-08-11T06:30:03.506996Z"
    }
   },
   "cell_type": "code",
   "source": [
    "def general_hough_closure(reference_image):\n",
    "    referencePoint = (\n",
    "        reference_image.shape[0] // 2, reference_image.shape[1] // 2)\n",
    "    r_table = build_r_table(reference_image, referencePoint)\n",
    "\n",
    "    def f(query_image):\n",
    "        return accumulate_gradients(r_table, query_image)\n",
    "\n",
    "    return f"
   ],
   "id": "18fd428c8d492df3",
   "outputs": [],
   "execution_count": 12
  },
  {
   "metadata": {
    "ExecuteTime": {
     "end_time": "2024-08-11T06:30:13.313410Z",
     "start_time": "2024-08-11T06:30:13.310445Z"
    }
   },
   "cell_type": "code",
   "source": [
    "def n_max(a, n):\n",
    "    indices = a.ravel().argsort()[-n:]\n",
    "    indices = (np.unravel_index(i, a.shape) for i in indices)\n",
    "    return [(a[i], i) for i in indices]"
   ],
   "id": "6284b3ca485bcdae",
   "outputs": [],
   "execution_count": 13
  },
  {
   "metadata": {
    "ExecuteTime": {
     "end_time": "2024-08-11T06:30:14.910814Z",
     "start_time": "2024-08-11T06:30:14.908281Z"
    }
   },
   "cell_type": "code",
   "source": [
    "def overlay_reference_image(query_image, reference_image, position):\n",
    "    '''\n",
    "    Overlay the reference image on the query image at the specified position.\n",
    "    '''\n",
    "    ref_h, ref_w = reference_image.shape\n",
    "    q_h, q_w = query_image.shape\n",
    "\n",
    "    ref_h_half = ref_h // 2\n",
    "    ref_w_half = ref_w // 2\n",
    "\n",
    "    # Position where the top-left corner of the reference image should be placed\n",
    "    pos_y, pos_x = position\n",
    "    start_y = max(0, pos_y - ref_h_half)\n",
    "    start_x = max(0, pos_x - ref_w_half)\n",
    "    end_y = min(q_h, pos_y + ref_h_half)\n",
    "    end_x = min(q_w, pos_x + ref_w_half)\n",
    "\n",
    "    # Overlay reference image\n",
    "    ref_start_y = ref_h_half - (pos_y - start_y)\n",
    "    ref_start_x = ref_w_half - (pos_x - start_x)\n",
    "    ref_end_y = ref_start_y + (end_y - start_y)\n",
    "    ref_end_x = ref_start_x + (end_x - start_x)\n",
    "\n",
    "    query_image[start_y:end_y, start_x:end_x] = np.maximum(\n",
    "        query_image[start_y:end_y, start_x:end_x],\n",
    "        reference_image[ref_start_y:ref_end_y, ref_start_x:ref_end_x]\n",
    "    )\n",
    "\n",
    "    return query_image"
   ],
   "id": "27b3194949ff8fb5",
   "outputs": [],
   "execution_count": 14
  },
  {
   "metadata": {
    "ExecuteTime": {
     "end_time": "2024-08-11T06:30:31.765028Z",
     "start_time": "2024-08-11T06:30:31.760491Z"
    }
   },
   "cell_type": "code",
   "source": [
    "def multi_scale_and_shift_detection(reference_images, query_image, scales, shifts):\n",
    "    best_accumulator = None\n",
    "    best_position = None\n",
    "    best_scale = 1\n",
    "    best_shift = (0, 0)\n",
    "    best_reference_image = None\n",
    "    max_accumulator_value = 0\n",
    "\n",
    "    for reference_image in reference_images:\n",
    "        for scale in scales:\n",
    "            # Resize the reference image\n",
    "            scaled_reference_image = cv2.resize(\n",
    "                reference_image, None, fx=scale, fy=scale, interpolation=cv2.INTER_LINEAR)\n",
    "\n",
    "            # Apply Hough transform\n",
    "            detect_s = general_hough_closure(scaled_reference_image)\n",
    "            accumulator = detect_s(query_image)\n",
    "\n",
    "            # Find the best shift for this scale\n",
    "            for shift_y, shift_x in shifts:\n",
    "                # Apply the shift\n",
    "                shifted_accumulator = np.roll(accumulator, shift=(shift_y, shift_x), axis=(0, 1))\n",
    "                max_value = shifted_accumulator.max()\n",
    "                print(shift_x, shift_y, scale, max_value)\n",
    "                \n",
    "                if max_value >= max_accumulator_value:\n",
    "                    max_accumulator_value = max_value\n",
    "                    best_accumulator = shifted_accumulator\n",
    "                    best_position = np.unravel_index(shifted_accumulator.argmax(), shifted_accumulator.shape)\n",
    "                    best_scale = scale\n",
    "                    best_shift = (shift_y, shift_x)\n",
    "                    best_reference_image = scaled_reference_image\n",
    "\n",
    "    return best_accumulator, best_position, best_scale, best_shift, best_reference_image\n"
   ],
   "id": "4981bd762570de62",
   "outputs": [],
   "execution_count": 15
  },
  {
   "metadata": {
    "ExecuteTime": {
     "end_time": "2024-08-11T06:30:49.664500Z",
     "start_time": "2024-08-11T06:30:49.660174Z"
    }
   },
   "cell_type": "code",
   "source": [
    "def test_general_hough(reference_images, query_image):\n",
    "    scales = [1.0]  # Example scales\n",
    "    shifts = [(0, 0)]  # Example shifts\n",
    "    \n",
    "    best_accumulator, best_position, best_scale, best_shift, best_reference_image = multi_scale_and_shift_detection(\n",
    "        reference_images, query_image, scales, shifts)\n",
    "\n",
    "    plt.clf()\n",
    "    plt.gray()\n",
    "\n",
    "    fig = plt.figure()\n",
    "    fig.add_subplot(2, 2, 1)\n",
    "    plt.title('Best Reference Image')\n",
    "    plt.imshow(best_reference_image, cmap='gray')\n",
    "\n",
    "    fig.add_subplot(2, 2, 2)\n",
    "    plt.title('Query Image with Red Points')\n",
    "\n",
    "    # Convert query image to RGB\n",
    "    query_image_colored = cv2.cvtColor(query_image, cv2.COLOR_GRAY2BGR)\n",
    "\n",
    "    # Draw the detected position in red\n",
    "    if best_position:\n",
    "        i, j = best_position\n",
    "        # Red circle with radius 5\n",
    "        cv2.circle(query_image_colored, (j, i), 5, (0, 0, 255), -1)\n",
    "\n",
    "    plt.imshow(query_image_colored)\n",
    "\n",
    "    fig.add_subplot(2, 2, 3)\n",
    "    plt.title('Accumulator')\n",
    "    plt.imshow(best_accumulator, cmap='gray')\n",
    "\n",
    "    fig.add_subplot(2, 2, 4)\n",
    "    plt.title('Detection')\n",
    "\n",
    "    # Overlay the reference image at the detected location\n",
    "    scaled_reference_image = cv2.resize(\n",
    "        best_reference_image, None, fx=best_scale, fy=best_scale, interpolation=cv2.INTER_LINEAR)\n",
    "    \n",
    "    # Adjust position for the best shift\n",
    "    shifted_position = (best_position[0] + best_shift[0], best_position[1] + best_shift[1])\n",
    "    \n",
    "    overlayed_image = overlay_reference_image(\n",
    "        query_image.copy(), scaled_reference_image, shifted_position)\n",
    "    plt.imshow(overlayed_image, cmap='gray')\n",
    "\n",
    "    plt.show()\n",
    "    return"
   ],
   "id": "de4d9eacf6aa0c4b",
   "outputs": [],
   "execution_count": 16
  },
  {
   "metadata": {
    "ExecuteTime": {
     "end_time": "2024-08-11T06:30:56.663552Z",
     "start_time": "2024-08-11T06:30:56.660699Z"
    }
   },
   "cell_type": "code",
   "source": [
    "def rotate_image(image, angle):\n",
    "    # Get the dimensions of the image\n",
    "    (h, w) = image.shape[:2]\n",
    "\n",
    "    # Calculate the center of the image\n",
    "    center = (w / 2, h / 2)\n",
    "\n",
    "    # Get the rotation matrix\n",
    "    M = cv2.getRotationMatrix2D(center, angle, 1.0)\n",
    "\n",
    "    # Perform the rotation\n",
    "    rotated_image = cv2.warpAffine(image, M, (w, h))\n",
    "\n",
    "    return rotated_image"
   ],
   "id": "aab4001e2c7366a5",
   "outputs": [],
   "execution_count": 17
  },
  {
   "metadata": {
    "ExecuteTime": {
     "end_time": "2024-08-11T06:30:58.356249Z",
     "start_time": "2024-08-11T06:30:58.353335Z"
    }
   },
   "cell_type": "code",
   "source": [
    "def shapes_to_image(shapes, image_shape=(250, 250)):\n",
    "    image = np.zeros(image_shape, dtype=np.uint8)\n",
    "    for shape in shapes:\n",
    "        for points in shape:\n",
    "            for x, y in points:\n",
    "                # Set pixel value to 255 (white) for shape points\n",
    "                image[int(y), int(x)] = 255\n",
    "    return image"
   ],
   "id": "eda89f2a1b2bf7f0",
   "outputs": [],
   "execution_count": 18
  },
  {
   "metadata": {
    "ExecuteTime": {
     "end_time": "2024-08-11T07:02:53.843679Z",
     "start_time": "2024-08-11T07:02:53.839740Z"
    }
   },
   "cell_type": "code",
   "source": [
    "def test():\n",
    "    reference_shapes_list = [\n",
    "        read_csv_(\"utils/images/single_ellipse.csv\"),\n",
    "        read_csv_(\"utils/images/double_ellipse.csv\")\n",
    "    ]\n",
    "    query_shapes = read_csv_(\"utils/tc/occlusion2.csv\")\n",
    "\n",
    "    # Convert shapes to images\n",
    "    reference_images = [shapes_to_image(shapes) for shapes in reference_shapes_list]\n",
    "    query_image = shapes_to_image(query_shapes)\n",
    "\n",
    "    test_general_hough(reference_images, query_image)"
   ],
   "id": "da085af6b95aff07",
   "outputs": [],
   "execution_count": 26
  },
  {
   "metadata": {
    "ExecuteTime": {
     "end_time": "2024-08-11T07:02:55.384174Z",
     "start_time": "2024-08-11T07:02:54.563407Z"
    }
   },
   "cell_type": "code",
   "source": [
    "if __name__ == '__main__':\n",
    "    test()"
   ],
   "id": "208cc318f06d3109",
   "outputs": [
    {
     "name": "stdout",
     "output_type": "stream",
     "text": [
      "0 0 1.0 98.0\n",
      "0 0 1.0 520.0\n"
     ]
    },
    {
     "data": {
      "text/plain": [
       "<Figure size 640x480 with 0 Axes>"
      ]
     },
     "metadata": {},
     "output_type": "display_data"
    },
    {
     "data": {
      "text/plain": [
       "<Figure size 640x480 with 4 Axes>"
      ],
      "image/png": "[encoded data removed]"
     },
     "metadata": {},
     "output_type": "display_data"
    }
   ],
   "execution_count": 27
  },
  {
   "metadata": {},
   "cell_type": "code",
   "outputs": [],
   "execution_count": null,
   "source": "",
   "id": "240d9b89d506252b"
  }
 ],
 "metadata": {
  "kernelspec": {
   "display_name": "Python 3",
   "language": "python",
   "name": "python3"
  },
  "language_info": {
   "codemirror_mode": {
    "name": "ipython",
    "version": 2
   },
   "file_extension": ".py",
   "mimetype": "text/x-python",
   "name": "python",
   "nbconvert_exporter": "python",
   "pygments_lexer": "ipython2",
   "version": "2.7.6"
  }
 },
 "nbformat": 4,
 "nbformat_minor": 5
}
